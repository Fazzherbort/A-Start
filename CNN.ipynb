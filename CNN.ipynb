{
 "cells": [
  {
   "cell_type": "code",
   "execution_count": 1,
   "metadata": {},
   "outputs": [],
   "source": [
    "import tensorflow as tf\n",
    "import numpy as np\n",
    "import pandas as pd\n",
    "import warnings\n",
    "import os\n",
    "from tensorflow.examples.tutorials.mnist import input_data\n",
    "warnings.filterwarnings('ignore')\n",
    "pd.options.display.max_columns = None\n",
    "pd.options.display.max_rows = None"
   ]
  },
  {
   "cell_type": "code",
   "execution_count": 2,
   "metadata": {},
   "outputs": [],
   "source": [
    "train = pd.read_csv(r'C:/Users/12239/Desktop/CFF/离散制造过程中典型工件的质量符合率预测/train_set/first_round_training_data - 副本.csv')\n",
    "test = pd.read_csv(r'C:\\Users\\12239\\Desktop\\CFF\\离散制造过程中典型工件的质量符合率预测\\test_set\\first_round_testing_data - 副本.csv')\n",
    "submit = pd.read_csv(r'C:\\Users\\12239\\Desktop\\CFF\\离散制造过程中典型工件的质量符合率预测\\submit_example.csv')"
   ]
  },
  {
   "cell_type": "code",
   "execution_count": 12,
   "metadata": {},
   "outputs": [],
   "source": [
    "sess = tf.InteractiveSession()"
   ]
  },
  {
   "cell_type": "code",
   "execution_count": 3,
   "metadata": {},
   "outputs": [],
   "source": [
    "feature_name = ['Parameter{0}'.format(i) for i in range(5,11)]\n",
    "dit = {'Excellent':0,'Good':1,'Pass':2,'Fail':3}\n",
    "train['label'] = train['Quality_label'].map(dit)\n",
    "train = pd.get_dummies(train, columns=['Quality_label'])\n",
    "bin_label = ['Quality_label_Excellent', 'Quality_label_Good', 'Quality_label_Pass', 'Quality_label_Fail']"
   ]
  },
  {
   "cell_type": "code",
   "execution_count": 16,
   "metadata": {},
   "outputs": [],
   "source": [
    "train_x = train[feature_name].values\n",
    "train_y = train[bin_label].values\n",
    "x_test = test[feature_name].values"
   ]
  },
  {
   "cell_type": "code",
   "execution_count": 6,
   "metadata": {},
   "outputs": [],
   "source": [
    "def conv2d(x,W):\n",
    "    return tf.nn.conv2d(x,W,strides=[1,1,1,1],padding='SAME')\n",
    "def max_pool_1x1(x):\n",
    "    return tf.nn.max_pool(x,ksize=[1,1,1,1],strides=[1,1,1,1],padding='SAME')\n",
    "def weight_variable(shape):\n",
    "    initial = tf.truncated_normal(shape,stddev=0.1)\n",
    "    return tf.Variable(initial)\n",
    "def bias_variable(shape):\n",
    "    initial = tf.constant(0.1,shape=shape)\n",
    "    return tf.Variable(initial)"
   ]
  },
  {
   "cell_type": "code",
   "execution_count": 9,
   "metadata": {},
   "outputs": [],
   "source": [
    "n_input = 6\n",
    "n_classes = 4\n",
    "\n",
    "x = tf.placeholder(\"float\",[None,n_input])\n",
    "y = tf.placeholder(\"float\",[None,n_classes])\n",
    "x_image=tf.reshape(x,[-1,2,3,1])\n",
    "\n",
    "w_conv1 = weight_variable([2,1,1,3])\n",
    "b_cinv1 = bias_variable([3])\n",
    "h_conv1 = tf.nn.relu(conv2d(x_image,w_conv1) + b_cinv1)\n",
    "h_pool1 = max_pool_1x1(h_conv1)\n",
    "\n",
    "w_conv2 = weight_variable([1,1,1,6])\n",
    "b_cinv2 = bias_variable([6])\n",
    "h_conv2 = tf.nn.relu(conv2d(h_pool1,w_conv2) + b_cinv2)\n",
    "h_pool2 = max_pool_1x1(h_conv2)\n",
    "\n",
    "w_fc1 = weight_variable([6*2*3,12])\n",
    "b_fc1 = bias_variable([12])\n",
    "h_pool2_flat = tf.reshape(h_pool2,[-1,6*2*3])\n",
    "h_fc1 = tf.nn.relu(tf.matmul(h_pool2_flat,w_fc1) + b_fc1)\n",
    "\n",
    "keep_prob = tf.placeholder(tf.float32)\n",
    "h_fc1_drop = tf.nn.dropout(h_fc1,keep_prob)\n",
    "w_fc2 = weight_variable([12,4])\n",
    "b_fc2 = bias_variable([4])\n",
    "y_conv = tf.nn.softmax(tf.matmul(h_fc1_drop,w_fc2) + b_fc2)\n",
    "\n",
    "cross_entropy = tf.reduce_mean(-tf.reduce_sum(y * tf.log(y_conv),\n",
    "                                              reduction_indices=[1]))\n",
    "train_step = tf.train.AdamOptimizer(1e-4).minimize(cross_entropy)\n",
    "correct_prediction = tf.equal(tf.math.argmax(y_conv,1),tf.arg_max(y,1))\n",
    "accuracy  =tf.reduce_mean(tf.cast(correct_prediction,tf.float32))"
   ]
  },
  {
   "cell_type": "code",
   "execution_count": 19,
   "metadata": {},
   "outputs": [
    {
     "name": "stdout",
     "output_type": "stream",
     "text": [
      "step 0,train_accuarcy 0.30303\n",
      "step 1,train_accuarcy 0.191919\n",
      "step 2,train_accuarcy 0.161616\n",
      "step 3,train_accuarcy 0.141414\n",
      "step 4,train_accuarcy 0.171717\n",
      "step 5,train_accuarcy 0.191919\n",
      "step 6,train_accuarcy 0.222222\n",
      "step 7,train_accuarcy 0.131313\n",
      "step 8,train_accuarcy 0.363636\n",
      "step 9,train_accuarcy 0.141414\n",
      "step 10,train_accuarcy 0.121212\n",
      "step 11,train_accuarcy 0.20202\n",
      "step 12,train_accuarcy 0.131313\n",
      "step 13,train_accuarcy 0.050505\n",
      "step 14,train_accuarcy 0.171717\n",
      "step 15,train_accuarcy 0.161616\n",
      "step 16,train_accuarcy 0.131313\n",
      "step 17,train_accuarcy 0.323232\n",
      "step 18,train_accuarcy 0.191919\n",
      "step 19,train_accuarcy 0.171717\n",
      "step 20,train_accuarcy 0.10101\n",
      "step 21,train_accuarcy 0.434343\n",
      "step 22,train_accuarcy 0.181818\n",
      "step 23,train_accuarcy 0.191919\n",
      "step 24,train_accuarcy 0.0909091\n",
      "step 25,train_accuarcy 0.171717\n",
      "step 26,train_accuarcy 0.20202\n",
      "step 27,train_accuarcy 0.161616\n",
      "step 28,train_accuarcy 0.242424\n",
      "step 29,train_accuarcy 0.282828\n",
      "step 30,train_accuarcy 0.20202\n",
      "step 31,train_accuarcy 0.232323\n",
      "step 32,train_accuarcy 0.161616\n",
      "step 33,train_accuarcy 0.181818\n",
      "step 34,train_accuarcy 0.191919\n",
      "step 35,train_accuarcy 0.151515\n",
      "step 36,train_accuarcy 0.191919\n",
      "step 37,train_accuarcy 0.232323\n",
      "step 38,train_accuarcy 0.242424\n",
      "step 39,train_accuarcy 0.111111\n",
      "step 40,train_accuarcy 0.141414\n",
      "step 41,train_accuarcy 0.131313\n",
      "step 42,train_accuarcy 0.0808081\n",
      "step 43,train_accuarcy 0.232323\n",
      "step 44,train_accuarcy 0.161616\n",
      "step 45,train_accuarcy 0.212121\n",
      "step 46,train_accuarcy 0.0909091\n",
      "step 47,train_accuarcy 0.161616\n",
      "step 48,train_accuarcy 0.171717\n",
      "step 49,train_accuarcy 0.111111\n",
      "step 50,train_accuarcy 0.121212\n",
      "step 51,train_accuarcy 0.282828\n",
      "step 52,train_accuarcy 0.121212\n",
      "step 53,train_accuarcy 0.151515\n",
      "step 54,train_accuarcy 0.292929\n",
      "step 55,train_accuarcy 0.282828\n",
      "step 56,train_accuarcy 0.10101\n",
      "step 57,train_accuarcy 0.252525\n",
      "step 58,train_accuarcy 0.121212\n",
      "step 59,train_accuarcy 0.181818\n"
     ]
    }
   ],
   "source": [
    "tf.global_variables_initializer().run()\n",
    "for i in range(60):\n",
    "    train_accuarcy = accuracy.eval(feed_dict={x:train_x[100*i:100*i+99,:],y:train_y[100*i:100*i+99,:],keep_prob:1.0})\n",
    "    print(\"step %d,train_accuarcy %g\"%(i,train_accuarcy))\n",
    "    train_step.run(feed_dict={x:train_x[100*i:100*i+99,:],y:train_y[100*i:100*i+99,:],keep_prob:0.5})"
   ]
  },
  {
   "cell_type": "code",
   "execution_count": null,
   "metadata": {},
   "outputs": [],
   "source": []
  }
 ],
 "metadata": {
  "kernelspec": {
   "display_name": "Python 3",
   "language": "python",
   "name": "python3"
  },
  "language_info": {
   "codemirror_mode": {
    "name": "ipython",
    "version": 3
   },
   "file_extension": ".py",
   "mimetype": "text/x-python",
   "name": "python",
   "nbconvert_exporter": "python",
   "pygments_lexer": "ipython3",
   "version": "3.7.1"
  }
 },
 "nbformat": 4,
 "nbformat_minor": 2
}
