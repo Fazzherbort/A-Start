{
 "cells": [
  {
   "cell_type": "code",
   "execution_count": 1,
   "metadata": {},
   "outputs": [],
   "source": [
    "import math\n",
    "import numpy as np\n",
    "import pandas as pd\n",
    "import catboost as cbt\n",
    "import xgboost as xgb\n",
    "import lightgbm as lgb\n",
    "from sklearn.pipeline import Pipeline\n",
    "from lightgbm import LGBMClassifier\n",
    "from xgboost import XGBClassifier\n",
    "from catboost import CatBoostClassifier\n",
    "from lightgbm import LGBMRegressor\n",
    "from xgboost import XGBRegressor\n",
    "from catboost import CatBoostRegressor\n",
    "from sklearn import metrics\n",
    "from sklearn.model_selection import train_test_split\n",
    "from sklearn.metrics import accuracy_score, roc_auc_score,log_loss,precision_score, recall_score, f1_score \n",
    "from sklearn.preprocessing import OneHotEncoder\n",
    "from sklearn.model_selection import KFold,StratifiedKFold,GridSearchCV\n",
    "import matplotlib.pyplot as plt\n",
    "from datetime import datetime,timedelta\n",
    "import warnings\n",
    "import os\n",
    "import gc\n",
    "import matplotlib.pyplot as plt\n",
    "warnings.filterwarnings('ignore')\n",
    "pd.options.display.max_columns = None\n",
    "pd.options.display.max_rows = None"
   ]
  },
  {
   "cell_type": "code",
   "execution_count": 2,
   "metadata": {},
   "outputs": [],
   "source": [
    "train = pd.read_csv(r'C:\\Users\\12239\\Desktop\\CFF\\离散制造过程中典型工件的质量符合率预测\\train_set\\first_round_training_data - 副本.csv')\n",
    "test = pd.read_csv(r'C:\\Users\\12239\\Desktop\\CFF\\离散制造过程中典型工件的质量符合率预测\\test_set\\first_round_testing_data - 副本.csv')\n",
    "submit = pd.read_csv(r'C:\\Users\\12239\\Desktop\\CFF\\离散制造过程中典型工件的质量符合率预测\\submit_example.csv')"
   ]
  },
  {
   "cell_type": "code",
   "execution_count": 3,
   "metadata": {},
   "outputs": [],
   "source": [
    "quality_map = {'Excellent': 0, 'Good': 1, 'Pass': 2, 'Fail': 3}\n",
    "train['label'] = train['Quality_label'].map(quality_map)\n",
    "btype = 'cbt'\n",
    "k = 5"
   ]
  },
  {
   "cell_type": "code",
   "execution_count": 4,
   "metadata": {
    "collapsed": true
   },
   "outputs": [
    {
     "name": "stdout",
     "output_type": "stream",
     "text": [
      "Fitting 3 folds for each of 1 candidates, totalling 3 fits\n"
     ]
    },
    {
     "name": "stderr",
     "output_type": "stream",
     "text": [
      "[Parallel(n_jobs=-1)]: Using backend LokyBackend with 8 concurrent workers.\n",
      "[Parallel(n_jobs=-1)]: Done   3 out of   3 | elapsed:    2.3s finished\n",
      "[Parallel(n_jobs=-1)]: Using backend LokyBackend with 8 concurrent workers.\n"
     ]
    },
    {
     "name": "stdout",
     "output_type": "stream",
     "text": [
      "0:\tlearn: 287983.5718481\ttotal: 67.7ms\tremaining: 0us\n",
      "最佳效果：184136.708\n",
      "最优参数：\n",
      "\tattr_model__n_estimators: 1\n",
      "Fitting 3 folds for each of 1 candidates, totalling 3 fits\n"
     ]
    },
    {
     "name": "stderr",
     "output_type": "stream",
     "text": [
      "[Parallel(n_jobs=-1)]: Done   3 out of   3 | elapsed:    1.7s finished\n",
      "[Parallel(n_jobs=-1)]: Using backend LokyBackend with 8 concurrent workers.\n"
     ]
    },
    {
     "name": "stdout",
     "output_type": "stream",
     "text": [
      "0:\tlearn: 287992.6323187\ttotal: 17.9ms\tremaining: 0us\n",
      "最佳效果：183255.298\n",
      "最优参数：\n",
      "\tattr_model__n_estimators: 1\n",
      "Fitting 3 folds for each of 1 candidates, totalling 3 fits\n"
     ]
    },
    {
     "name": "stderr",
     "output_type": "stream",
     "text": [
      "[Parallel(n_jobs=-1)]: Done   3 out of   3 | elapsed:    1.6s finished\n",
      "[Parallel(n_jobs=-1)]: Using backend LokyBackend with 8 concurrent workers.\n",
      "[Parallel(n_jobs=-1)]: Done   3 out of   3 | elapsed:    0.0s finished\n"
     ]
    },
    {
     "name": "stdout",
     "output_type": "stream",
     "text": [
      "0:\tlearn: 229123.9326740\ttotal: 22.2ms\tremaining: 0us\n",
      "最佳效果：146929.230\n",
      "最优参数：\n",
      "\tattr_model__n_estimators: 1\n",
      "Fitting 3 folds for each of 1 candidates, totalling 3 fits\n",
      "0:\tlearn: 285695.8281448\ttotal: 24.1ms\tremaining: 0us\n"
     ]
    },
    {
     "name": "stderr",
     "output_type": "stream",
     "text": [
      "[Parallel(n_jobs=-1)]: Using backend LokyBackend with 8 concurrent workers.\n",
      "[Parallel(n_jobs=-1)]: Done   3 out of   3 | elapsed:    0.0s finished\n"
     ]
    },
    {
     "name": "stdout",
     "output_type": "stream",
     "text": [
      "最佳效果：182378.207\n",
      "最优参数：\n",
      "\tattr_model__n_estimators: 1\n",
      "Fitting 3 folds for each of 1 candidates, totalling 3 fits\n",
      "0:\tlearn: 176954.7685786\ttotal: 24.6ms\tremaining: 0us\n",
      "最佳效果：114110.013\n",
      "最优参数：\n",
      "\tattr_model__n_estimators: 1\n",
      "Fitting 3 folds for each of 1 candidates, totalling 3 fits\n",
      "0:\tlearn: 458955.4331916\ttotal: 20.3ms\tremaining: 0us\n"
     ]
    },
    {
     "name": "stderr",
     "output_type": "stream",
     "text": [
      "[Parallel(n_jobs=-1)]: Using backend LokyBackend with 8 concurrent workers.\n",
      "[Parallel(n_jobs=-1)]: Done   3 out of   3 | elapsed:    0.0s finished\n"
     ]
    },
    {
     "name": "stdout",
     "output_type": "stream",
     "text": [
      "最佳效果：381738.628\n",
      "最优参数：\n",
      "\tattr_model__n_estimators: 1\n",
      "Fitting 3 folds for each of 1 candidates, totalling 3 fits\n",
      "0:\tlearn: 109308630.1621516\ttotal: 19.8ms\tremaining: 0us\n"
     ]
    },
    {
     "name": "stderr",
     "output_type": "stream",
     "text": [
      "[Parallel(n_jobs=-1)]: Using backend LokyBackend with 8 concurrent workers.\n",
      "[Parallel(n_jobs=-1)]: Done   3 out of   3 | elapsed:    0.0s finished\n"
     ]
    },
    {
     "name": "stdout",
     "output_type": "stream",
     "text": [
      "最佳效果：63731502.154\n",
      "最优参数：\n",
      "\tattr_model__n_estimators: 1\n",
      "Fitting 3 folds for each of 1 candidates, totalling 3 fits\n",
      "0:\tlearn: 109308054.7007920\ttotal: 18.2ms\tremaining: 0us\n"
     ]
    },
    {
     "name": "stderr",
     "output_type": "stream",
     "text": [
      "[Parallel(n_jobs=-1)]: Using backend LokyBackend with 8 concurrent workers.\n",
      "[Parallel(n_jobs=-1)]: Done   3 out of   3 | elapsed:    0.0s finished\n"
     ]
    },
    {
     "name": "stdout",
     "output_type": "stream",
     "text": [
      "最佳效果：63733398.227\n",
      "最优参数：\n",
      "\tattr_model__n_estimators: 1\n",
      "Fitting 3 folds for each of 1 candidates, totalling 3 fits\n",
      "0:\tlearn: 109308382.0701638\ttotal: 17.8ms\tremaining: 0us\n",
      "最佳效果：63694252.156"
     ]
    },
    {
     "name": "stderr",
     "output_type": "stream",
     "text": [
      "[Parallel(n_jobs=-1)]: Using backend LokyBackend with 8 concurrent workers.\n",
      "[Parallel(n_jobs=-1)]: Done   3 out of   3 | elapsed:    0.0s finished\n",
      "[Parallel(n_jobs=-1)]: Using backend LokyBackend with 8 concurrent workers.\n"
     ]
    },
    {
     "name": "stdout",
     "output_type": "stream",
     "text": [
      "\n",
      "最优参数：\n",
      "\tattr_model__n_estimators: 1\n",
      "Fitting 3 folds for each of 1 candidates, totalling 3 fits\n",
      "0:\tlearn: 109308503.4915421\ttotal: 20.5ms\tremaining: 0us\n",
      "最佳效果：64153232.430"
     ]
    },
    {
     "name": "stderr",
     "output_type": "stream",
     "text": [
      "[Parallel(n_jobs=-1)]: Done   3 out of   3 | elapsed:    0.0s finished\n"
     ]
    },
    {
     "name": "stdout",
     "output_type": "stream",
     "text": [
      "\n",
      "最优参数：\n",
      "\tattr_model__n_estimators: 1\n",
      "Fitting 3 folds for each of 1 candidates, totalling 3 fits\n",
      "0:\tlearn: 213298.6602631\ttotal: 19.1ms\tremaining: 0us\n"
     ]
    },
    {
     "name": "stderr",
     "output_type": "stream",
     "text": [
      "[Parallel(n_jobs=-1)]: Using backend LokyBackend with 8 concurrent workers.\n",
      "[Parallel(n_jobs=-1)]: Done   3 out of   3 | elapsed:    0.0s finished\n"
     ]
    },
    {
     "name": "stdout",
     "output_type": "stream",
     "text": [
      "最佳效果：126268.094\n",
      "最优参数：\n",
      "\tattr_model__n_estimators: 1\n",
      "Fitting 3 folds for each of 1 candidates, totalling 3 fits\n",
      "0:\tlearn: 222011.6584134\ttotal: 22.4ms\tremaining: 0us\n"
     ]
    },
    {
     "name": "stderr",
     "output_type": "stream",
     "text": [
      "[Parallel(n_jobs=-1)]: Using backend LokyBackend with 8 concurrent workers.\n",
      "[Parallel(n_jobs=-1)]: Done   3 out of   3 | elapsed:    0.0s finished\n"
     ]
    },
    {
     "name": "stdout",
     "output_type": "stream",
     "text": [
      "最佳效果：160457.640\n",
      "最优参数：\n",
      "\tattr_model__n_estimators: 1\n",
      "Fitting 3 folds for each of 1 candidates, totalling 3 fits\n",
      "0:\tlearn: 221998.0820801\ttotal: 17.8ms\tremaining: 0us\n"
     ]
    },
    {
     "name": "stderr",
     "output_type": "stream",
     "text": [
      "[Parallel(n_jobs=-1)]: Using backend LokyBackend with 8 concurrent workers.\n",
      "[Parallel(n_jobs=-1)]: Done   3 out of   3 | elapsed:    0.0s finished\n",
      "[Parallel(n_jobs=-1)]: Using backend LokyBackend with 8 concurrent workers.\n"
     ]
    },
    {
     "name": "stdout",
     "output_type": "stream",
     "text": [
      "最佳效果：160271.706\n",
      "最优参数：\n",
      "\tattr_model__n_estimators: 1\n",
      "Fitting 3 folds for each of 1 candidates, totalling 3 fits\n",
      "0:\tlearn: 223517.3595927\ttotal: 20.3ms\tremaining: 0us\n"
     ]
    },
    {
     "name": "stderr",
     "output_type": "stream",
     "text": [
      "[Parallel(n_jobs=-1)]: Done   3 out of   3 | elapsed:    0.0s finished\n",
      "[Parallel(n_jobs=-1)]: Using backend LokyBackend with 8 concurrent workers.\n",
      "[Parallel(n_jobs=-1)]: Done   3 out of   3 | elapsed:    0.0s finished\n"
     ]
    },
    {
     "name": "stdout",
     "output_type": "stream",
     "text": [
      "最佳效果：160453.446\n",
      "最优参数：\n",
      "\tattr_model__n_estimators: 1\n",
      "Fitting 3 folds for each of 1 candidates, totalling 3 fits\n",
      "0:\tlearn: 61199.1814168\ttotal: 18.9ms\tremaining: 0us\n"
     ]
    },
    {
     "name": "stderr",
     "output_type": "stream",
     "text": [
      "[Parallel(n_jobs=-1)]: Using backend LokyBackend with 8 concurrent workers.\n",
      "[Parallel(n_jobs=-1)]: Done   3 out of   3 | elapsed:    0.0s finished\n"
     ]
    },
    {
     "name": "stdout",
     "output_type": "stream",
     "text": [
      "最佳效果：36943.121\n",
      "最优参数：\n",
      "\tattr_model__n_estimators: 1\n",
      "Fitting 3 folds for each of 1 candidates, totalling 3 fits\n",
      "0:\tlearn: 1248490.6846668\ttotal: 23.8ms\tremaining: 0us\n",
      "最佳效果：1005784.927\n",
      "最优参数：\n",
      "\tattr_model__n_estimators: 1\n",
      "Fitting 3 folds for each of 1 candidates, totalling 3 fits\n",
      "0:\tlearn: 1230956.9899556\ttotal: 17.1ms\tremaining: 0us\n"
     ]
    },
    {
     "name": "stderr",
     "output_type": "stream",
     "text": [
      "[Parallel(n_jobs=-1)]: Using backend LokyBackend with 8 concurrent workers.\n",
      "[Parallel(n_jobs=-1)]: Done   3 out of   3 | elapsed:    0.0s finished\n",
      "[Parallel(n_jobs=-1)]: Using backend LokyBackend with 8 concurrent workers.\n"
     ]
    },
    {
     "name": "stdout",
     "output_type": "stream",
     "text": [
      "最佳效果：976710.847\n",
      "最优参数：\n",
      "\tattr_model__n_estimators: 1\n",
      "Fitting 3 folds for each of 1 candidates, totalling 3 fits\n",
      "0:\tlearn: 1212805.7461811\ttotal: 17.7ms\tremaining: 0us\n"
     ]
    },
    {
     "name": "stderr",
     "output_type": "stream",
     "text": [
      "[Parallel(n_jobs=-1)]: Done   3 out of   3 | elapsed:    0.0s finished\n",
      "[Parallel(n_jobs=-1)]: Using backend LokyBackend with 8 concurrent workers.\n",
      "[Parallel(n_jobs=-1)]: Done   3 out of   3 | elapsed:    0.0s finished\n"
     ]
    },
    {
     "name": "stdout",
     "output_type": "stream",
     "text": [
      "最佳效果：912903.998\n",
      "最优参数：\n",
      "\tattr_model__n_estimators: 1\n",
      "Fitting 3 folds for each of 1 candidates, totalling 3 fits\n",
      "0:\tlearn: 1177298.5009924\ttotal: 27.2ms\tremaining: 0us\n",
      "最佳效果：869393.316\n",
      "最优参数：\n",
      "\tattr_model__n_estimators: 1\n",
      "Fitting 3 folds for each of 1 candidates, totalling 3 fits\n",
      "0:\tlearn: 534048.5963577\ttotal: 23.2ms\tremaining: 0us\n"
     ]
    },
    {
     "name": "stderr",
     "output_type": "stream",
     "text": [
      "[Parallel(n_jobs=-1)]: Using backend LokyBackend with 8 concurrent workers.\n",
      "[Parallel(n_jobs=-1)]: Done   3 out of   3 | elapsed:    0.0s finished\n"
     ]
    },
    {
     "name": "stdout",
     "output_type": "stream",
     "text": [
      "最佳效果：488935.879\n",
      "最优参数：\n",
      "\tattr_model__n_estimators: 1\n",
      "Fitting 3 folds for each of 1 candidates, totalling 3 fits\n"
     ]
    },
    {
     "name": "stderr",
     "output_type": "stream",
     "text": [
      "[Parallel(n_jobs=-1)]: Using backend LokyBackend with 8 concurrent workers.\n",
      "[Parallel(n_jobs=-1)]: Done   3 out of   3 | elapsed:    0.0s finished\n"
     ]
    },
    {
     "name": "stdout",
     "output_type": "stream",
     "text": [
      "0:\tlearn: 31651829.1867647\ttotal: 31.9ms\tremaining: 0us\n",
      "最佳效果：20804325.706\n",
      "最优参数：\n",
      "\tattr_model__n_estimators: 1\n",
      "Fitting 3 folds for each of 1 candidates, totalling 3 fits\n"
     ]
    },
    {
     "name": "stderr",
     "output_type": "stream",
     "text": [
      "[Parallel(n_jobs=-1)]: Using backend LokyBackend with 8 concurrent workers.\n",
      "[Parallel(n_jobs=-1)]: Done   3 out of   3 | elapsed:    0.0s finished\n"
     ]
    },
    {
     "name": "stdout",
     "output_type": "stream",
     "text": [
      "0:\tlearn: 31403535.5668979\ttotal: 23.6ms\tremaining: 0us\n",
      "最佳效果：19005045.331\n",
      "最优参数：\n",
      "\tattr_model__n_estimators: 1\n",
      "Fitting 3 folds for each of 1 candidates, totalling 3 fits\n"
     ]
    },
    {
     "name": "stderr",
     "output_type": "stream",
     "text": [
      "[Parallel(n_jobs=-1)]: Using backend LokyBackend with 8 concurrent workers.\n",
      "[Parallel(n_jobs=-1)]: Done   3 out of   3 | elapsed:    0.0s finished\n"
     ]
    },
    {
     "name": "stdout",
     "output_type": "stream",
     "text": [
      "0:\tlearn: 31650405.2293204\ttotal: 21.2ms\tremaining: 0us\n",
      "最佳效果：20693079.067\n",
      "最优参数：\n",
      "\tattr_model__n_estimators: 1\n",
      "Fitting 3 folds for each of 1 candidates, totalling 3 fits\n",
      "0:\tlearn: 31589573.3010011\ttotal: 27ms\tremaining: 0us\n"
     ]
    },
    {
     "name": "stderr",
     "output_type": "stream",
     "text": [
      "[Parallel(n_jobs=-1)]: Using backend LokyBackend with 8 concurrent workers.\n",
      "[Parallel(n_jobs=-1)]: Done   3 out of   3 | elapsed:    0.0s finished\n"
     ]
    },
    {
     "name": "stdout",
     "output_type": "stream",
     "text": [
      "最佳效果：20753789.941\n",
      "最优参数：\n",
      "\tattr_model__n_estimators: 1\n",
      "Fitting 3 folds for each of 1 candidates, totalling 3 fits\n"
     ]
    },
    {
     "name": "stderr",
     "output_type": "stream",
     "text": [
      "[Parallel(n_jobs=-1)]: Using backend LokyBackend with 8 concurrent workers.\n",
      "[Parallel(n_jobs=-1)]: Done   3 out of   3 | elapsed:    0.0s finished\n"
     ]
    },
    {
     "name": "stdout",
     "output_type": "stream",
     "text": [
      "0:\tlearn: 4099413.9341210\ttotal: 26.7ms\tremaining: 0us\n",
      "最佳效果：2711173.285\n",
      "最优参数：\n",
      "\tattr_model__n_estimators: 1\n",
      "mae 22362372.730338432\n"
     ]
    }
   ],
   "source": [
    "parameter_name = ['Parameter{0}'.format(i) for i in range(5,11)]\n",
    "attribute_name = ['Attribute{0}'.format(i) for i in range(4,9)]\n",
    "X_train_para = train[parameter_name]\n",
    "y_train_attr = train[attribute_name]\n",
    "X_test_para = test[parameter_name]\n",
    "y_train = train['label']\n",
    "train_attr = np.zeros((X_train_para.shape[0],5))\n",
    "test_attr = np.zeros((X_test_para.shape[0],5))\n",
    "i = 0\n",
    "\n",
    "for attr in attribute_name:\n",
    "    kfold = KFold(n_splits=k, shuffle=True, random_state=2019)\n",
    "    for train_index, test_index in kfold.split(X_train_para,y_train_attr):\n",
    "        train_x, test_x, train_y, test_y = X_train_para.iloc[train_index], X_train_para.iloc[test_index], y_train_attr[attr].iloc[train_index], y_train_attr[attr].iloc[test_index]\n",
    "        if btype == 'cbt':\n",
    "            pipeline = Pipeline([('attr_model', CatBoostRegressor(random_state=2019))])\n",
    "        elif btype == 'lgb':\n",
    "            pipeline = Pipeline([('attr_model', LGBMRegressor(boosting_type=\"gbdt\",random_state=2019))])\n",
    "        elif btype == 'xgb':\n",
    "            pipeline = Pipeline([('attr_model', XGBRegressor(random_state=2019))])\n",
    "\n",
    "        n_estimators = range(500,1200,100)\n",
    "        max_depth = [4,6,8,10]\n",
    "        reg_alpha=[5,7,9,11,13]\n",
    "        reg_lambda=[3,4,5,6]\n",
    "        learning_rate=[0.01,0.03,0.05]\n",
    "        random_grid = {\n",
    "                        'attr_model__n_estimators': n_estimators,\n",
    "                        'attr_model__max_depth': max_depth,\n",
    "                        'attr_model__reg_alpha':reg_alpha,\n",
    "                        'attr_model__reg_lambda':reg_lambda,\n",
    "                        'attr_model__learning_rate':learning_rate\n",
    "                       } \n",
    "        grid_search = GridSearchCV(pipeline,random_grid, n_jobs=-1, verbose=1, scoring=None)\n",
    "        grid_search.fit(train_x,train_y)\n",
    "        print('最佳效果：%0.3f' % grid_search.best_score_)\n",
    "        best_parameters = grid_search.best_estimator_.get_params()\n",
    "        print('最优参数：')\n",
    "        for param_name in sorted(random_grid.keys()):\n",
    "            print('\\t%s: %r' % (param_name, best_parameters[param_name]))\n",
    "        train_attr[test_index,i] += grid_search.predict(test_x)\n",
    "        test_attr[:,i] += grid_search.predict(X_test_para)/k\n",
    "    i += 1\n",
    "print('mae',np.sum(np.absolute(train_attr - y_train_attr.values)/480))"
   ]
  },
  {
   "cell_type": "code",
   "execution_count": 5,
   "metadata": {},
   "outputs": [],
   "source": [
    "boosttype='cbt'\n",
    "k=5"
   ]
  },
  {
   "cell_type": "code",
   "execution_count": 6,
   "metadata": {
    "collapsed": true
   },
   "outputs": [
    {
     "name": "stdout",
     "output_type": "stream",
     "text": [
      "(6000, 11) (6000, 11)\n",
      "1\n",
      "0\n",
      "0:\tlearn: -1.3812077\ttest: -1.3812077\tbest: -1.3812077 (0)\ttotal: 42ms\tremaining: 4.16s\n",
      "99:\tlearn: -1.1654133\ttest: -1.1654133\tbest: -1.1654133 (99)\ttotal: 1.48s\tremaining: 0us\n",
      "bestTest = -1.165413262\n",
      "bestIteration = 99\n",
      "Shrink model to first 100 iterations.\n",
      "1\n",
      "0:\tlearn: -1.3809371\ttest: -1.3809372\tbest: -1.3809372 (0)\ttotal: 16ms\tremaining: 1.59s\n",
      "99:\tlearn: -1.1655067\ttest: -1.1655067\tbest: -1.1655067 (99)\ttotal: 1.34s\tremaining: 0us\n",
      "bestTest = -1.165506685\n",
      "bestIteration = 99\n",
      "Shrink model to first 100 iterations.\n",
      "2\n",
      "0:\tlearn: -1.3808889\ttest: -1.3808890\tbest: -1.3808890 (0)\ttotal: 14.3ms\tremaining: 1.42s\n",
      "99:\tlearn: -1.1636784\ttest: -1.1636784\tbest: -1.1636784 (99)\ttotal: 1.34s\tremaining: 0us\n",
      "bestTest = -1.163678364\n",
      "bestIteration = 99\n",
      "Shrink model to first 100 iterations.\n",
      "3\n",
      "0:\tlearn: -1.3807654\ttest: -1.3807654\tbest: -1.3807654 (0)\ttotal: 15.2ms\tremaining: 1.51s\n",
      "99:\tlearn: -1.1586535\ttest: -1.1586534\tbest: -1.1586534 (99)\ttotal: 1.33s\tremaining: 0us\n",
      "bestTest = -1.158653369\n",
      "bestIteration = 99\n",
      "Shrink model to first 100 iterations.\n",
      "4\n",
      "0:\tlearn: -1.3808157\ttest: -1.3808159\tbest: -1.3808159 (0)\ttotal: 14.6ms\tremaining: 1.45s\n",
      "99:\tlearn: -1.1603613\ttest: -1.1603613\tbest: -1.1603613 (99)\ttotal: 1.32s\tremaining: 0us\n",
      "bestTest = -1.160361344\n",
      "bestIteration = 99\n",
      "Shrink model to first 100 iterations.\n",
      "logloss 1.1760521997142273\n",
      "ac 0.5116666666666667\n",
      "mae 0.05645218374094068\n",
      "2\n",
      "0\n",
      "0:\tlearn: -1.3809281\ttest: -1.3809281\tbest: -1.3809281 (0)\ttotal: 14.3ms\tremaining: 1.41s\n",
      "99:\tlearn: -1.1637864\ttest: -1.1637864\tbest: -1.1637864 (99)\ttotal: 1.33s\tremaining: 0us\n",
      "bestTest = -1.163786404\n",
      "bestIteration = 99\n",
      "Shrink model to first 100 iterations.\n",
      "1\n",
      "0:\tlearn: -1.3810090\ttest: -1.3810090\tbest: -1.3810090 (0)\ttotal: 15.8ms\tremaining: 1.56s\n",
      "99:\tlearn: -1.1598864\ttest: -1.1598864\tbest: -1.1598864 (99)\ttotal: 1.4s\tremaining: 0us\n",
      "bestTest = -1.159886362\n",
      "bestIteration = 99\n",
      "Shrink model to first 100 iterations.\n",
      "2\n",
      "0:\tlearn: -1.3807674\ttest: -1.3807674\tbest: -1.3807674 (0)\ttotal: 16.3ms\tremaining: 1.61s\n",
      "99:\tlearn: -1.1593651\ttest: -1.1593650\tbest: -1.1593650 (99)\ttotal: 1.4s\tremaining: 0us\n",
      "bestTest = -1.159364992\n",
      "bestIteration = 99\n",
      "Shrink model to first 100 iterations.\n",
      "3\n",
      "0:\tlearn: -1.3809729\ttest: -1.3809729\tbest: -1.3809729 (0)\ttotal: 16.8ms\tremaining: 1.67s\n",
      "99:\tlearn: -1.1663340\ttest: -1.1663339\tbest: -1.1663339 (99)\ttotal: 1.35s\tremaining: 0us\n",
      "bestTest = -1.166333857\n",
      "bestIteration = 99\n",
      "Shrink model to first 100 iterations.\n",
      "4\n",
      "0:\tlearn: -1.3809019\ttest: -1.3809018\tbest: -1.3809018 (0)\ttotal: 16ms\tremaining: 1.58s\n",
      "99:\tlearn: -1.1633642\ttest: -1.1633641\tbest: -1.1633641 (99)\ttotal: 1.44s\tremaining: 0us\n",
      "bestTest = -1.163364142\n",
      "bestIteration = 99\n",
      "Shrink model to first 100 iterations.\n",
      "logloss 1.1761589189340886\n",
      "ac 0.5156666666666667\n",
      "mae 0.056454421599143406\n",
      "3\n",
      "0\n",
      "0:\tlearn: -1.3815834\ttest: -1.3815832\tbest: -1.3815832 (0)\ttotal: 17.1ms\tremaining: 1.69s\n",
      "99:\tlearn: -1.1637155\ttest: -1.1637155\tbest: -1.1637155 (99)\ttotal: 1.49s\tremaining: 0us\n",
      "bestTest = -1.163715472\n",
      "bestIteration = 99\n",
      "Shrink model to first 100 iterations.\n",
      "1\n",
      "0:\tlearn: -1.3811543\ttest: -1.3811541\tbest: -1.3811541 (0)\ttotal: 18.5ms\tremaining: 1.83s\n",
      "99:\tlearn: -1.1578416\ttest: -1.1578415\tbest: -1.1578415 (99)\ttotal: 1.48s\tremaining: 0us\n",
      "bestTest = -1.157841544\n",
      "bestIteration = 99\n",
      "Shrink model to first 100 iterations.\n",
      "2\n",
      "0:\tlearn: -1.3809062\ttest: -1.3809062\tbest: -1.3809062 (0)\ttotal: 15.1ms\tremaining: 1.49s\n",
      "99:\tlearn: -1.1645530\ttest: -1.1645529\tbest: -1.1645529 (99)\ttotal: 1.35s\tremaining: 0us\n",
      "bestTest = -1.164552917\n",
      "bestIteration = 99\n",
      "Shrink model to first 100 iterations.\n",
      "3\n",
      "0:\tlearn: -1.3808717\ttest: -1.3808717\tbest: -1.3808717 (0)\ttotal: 15.3ms\tremaining: 1.51s\n",
      "99:\tlearn: -1.1640925\ttest: -1.1640924\tbest: -1.1640924 (99)\ttotal: 1.32s\tremaining: 0us\n",
      "bestTest = -1.164092401\n",
      "bestIteration = 99\n",
      "Shrink model to first 100 iterations.\n",
      "4\n",
      "0:\tlearn: -1.3809173\ttest: -1.3809171\tbest: -1.3809171 (0)\ttotal: 15.2ms\tremaining: 1.5s\n",
      "99:\tlearn: -1.1643580\ttest: -1.1643580\tbest: -1.1643580 (99)\ttotal: 1.33s\tremaining: 0us\n",
      "bestTest = -1.16435799\n",
      "bestIteration = 99\n",
      "Shrink model to first 100 iterations.\n",
      "logloss 1.176283710150568\n",
      "ac 0.5136666666666667\n",
      "mae 0.05644273442717418\n",
      "4\n",
      "0\n",
      "0:\tlearn: -1.3809140\ttest: -1.3809140\tbest: -1.3809140 (0)\ttotal: 16.7ms\tremaining: 1.65s\n",
      "99:\tlearn: -1.1645208\ttest: -1.1645208\tbest: -1.1645208 (99)\ttotal: 1.35s\tremaining: 0us\n",
      "bestTest = -1.16452076\n",
      "bestIteration = 99\n",
      "Shrink model to first 100 iterations.\n",
      "1\n",
      "0:\tlearn: -1.3808012\ttest: -1.3808013\tbest: -1.3808013 (0)\ttotal: 15.4ms\tremaining: 1.52s\n",
      "99:\tlearn: -1.1616438\ttest: -1.1616437\tbest: -1.1616437 (99)\ttotal: 1.35s\tremaining: 0us\n",
      "bestTest = -1.161643686\n",
      "bestIteration = 99\n",
      "Shrink model to first 100 iterations.\n",
      "2\n",
      "0:\tlearn: -1.3807324\ttest: -1.3807326\tbest: -1.3807326 (0)\ttotal: 15.8ms\tremaining: 1.56s\n",
      "99:\tlearn: -1.1573528\ttest: -1.1573529\tbest: -1.1573529 (99)\ttotal: 1.44s\tremaining: 0us\n",
      "bestTest = -1.157352879\n",
      "bestIteration = 99\n",
      "Shrink model to first 100 iterations.\n",
      "3\n",
      "0:\tlearn: -1.3811298\ttest: -1.3811298\tbest: -1.3811298 (0)\ttotal: 17.4ms\tremaining: 1.72s\n",
      "99:\tlearn: -1.1604070\ttest: -1.1604068\tbest: -1.1604068 (99)\ttotal: 1.43s\tremaining: 0us\n",
      "bestTest = -1.160406849\n",
      "bestIteration = 99\n",
      "Shrink model to first 100 iterations.\n",
      "4\n",
      "0:\tlearn: -1.3810433\ttest: -1.3810433\tbest: -1.3810433 (0)\ttotal: 15.3ms\tremaining: 1.52s\n",
      "99:\tlearn: -1.1688969\ttest: -1.1688969\tbest: -1.1688969 (99)\ttotal: 1.41s\tremaining: 0us\n",
      "bestTest = -1.168896911\n",
      "bestIteration = 99\n",
      "Shrink model to first 100 iterations.\n",
      "logloss 1.1769010439301808\n",
      "ac 0.5151666666666667\n",
      "mae 0.05643271463799868\n",
      "5\n",
      "0\n",
      "0:\tlearn: -1.3808201\ttest: -1.3808199\tbest: -1.3808199 (0)\ttotal: 15.9ms\tremaining: 1.57s\n",
      "99:\tlearn: -1.1605217\ttest: -1.1605216\tbest: -1.1605216 (99)\ttotal: 1.35s\tremaining: 0us\n",
      "bestTest = -1.160521596\n",
      "bestIteration = 99\n",
      "Shrink model to first 100 iterations.\n",
      "1\n",
      "0:\tlearn: -1.3808795\ttest: -1.3808795\tbest: -1.3808795 (0)\ttotal: 17.4ms\tremaining: 1.72s\n",
      "99:\tlearn: -1.1623487\ttest: -1.1623487\tbest: -1.1623487 (99)\ttotal: 1.37s\tremaining: 0us\n",
      "bestTest = -1.162348733\n",
      "bestIteration = 99\n",
      "Shrink model to first 100 iterations.\n",
      "2\n",
      "0:\tlearn: -1.3808272\ttest: -1.3808270\tbest: -1.3808270 (0)\ttotal: 15.4ms\tremaining: 1.52s\n",
      "99:\tlearn: -1.1611724\ttest: -1.1611723\tbest: -1.1611723 (99)\ttotal: 1.33s\tremaining: 0us\n",
      "bestTest = -1.161172274\n",
      "bestIteration = 99\n",
      "Shrink model to first 100 iterations.\n",
      "3\n",
      "0:\tlearn: -1.3808120\ttest: -1.3808120\tbest: -1.3808120 (0)\ttotal: 16.2ms\tremaining: 1.61s\n",
      "99:\tlearn: -1.1587147\ttest: -1.1587147\tbest: -1.1587147 (99)\ttotal: 1.35s\tremaining: 0us\n",
      "bestTest = -1.158714696\n",
      "bestIteration = 99\n",
      "Shrink model to first 100 iterations.\n",
      "4\n",
      "0:\tlearn: -1.3810993\ttest: -1.3810993\tbest: -1.3810993 (0)\ttotal: 18.1ms\tremaining: 1.79s\n",
      "99:\tlearn: -1.1689666\ttest: -1.1689666\tbest: -1.1689666 (99)\ttotal: 1.41s\tremaining: 0us\n",
      "bestTest = -1.168966564\n",
      "bestIteration = 99\n",
      "Shrink model to first 100 iterations.\n",
      "logloss 1.1762115674987326\n",
      "ac 0.514\n",
      "mae 0.056456096646169754\n",
      "logloss 1.1759799190559064\n",
      "ac 0.5143333333333333\n",
      "mae 0.05644762884610396\n",
      "micro precision 0.5143333333333333\n",
      "micro recall 0.5143333333333333\n",
      "macro precision 0.5012356586278263\n",
      "macro recall 0.4424172960721524\n",
      "micro F2-Score 0.5143333333333333\n",
      "macro F2-Score 0.4530500847339612\n"
     ]
    }
   ],
   "source": [
    "train[attribute_name] = train_attr\n",
    "X_train = train[parameter_name+attribute_name]\n",
    "y_train = train['label']\n",
    "i = 0\n",
    "for attr in attribute_name:\n",
    "    test[attr] = test_attr[:,i]\n",
    "    i += 1\n",
    "X_test = test[parameter_name + attribute_name]\n",
    "print(X_train.shape,X_test.shape)\n",
    "oof = np.zeros((X_train.shape[0],4))\n",
    "prediction = np.zeros((X_test.shape[0],4))\n",
    "seeds = [x*x for x in range(10,20,2)]#设置随机种子\n",
    "num_model_seed = len(seeds)\n",
    "#params = {'max_depth':range(2, 7), 'n_estimators':range(100, 1100, 200), 'learning_rate':[0.01]}\n",
    "\n",
    "for model_seed in range(num_model_seed):\n",
    "    print(model_seed + 1)\n",
    "    oof_model = np.zeros((X_train.shape[0],4))\n",
    "    prediction_model=np.zeros((X_test.shape[0],4))\n",
    "#    oof_xgb = np.zeros((X_train.shape[0],4))\n",
    "#    prediction_xgb=np.zeros((X_test.shape[0],4))\n",
    "    skf = StratifiedKFold(n_splits=k, random_state=seeds[model_seed], shuffle=True)#构造交叉验证集，进行按比例取样（splits表示测试集和验证集为4：1）\n",
    "    for index, (train_index, test_index) in enumerate(skf.split(X_train, y_train)):\n",
    "        print(index)\n",
    "        train_x, test_x, train_y, test_y = X_train.iloc[train_index], X_train.iloc[test_index], y_train.iloc[train_index], y_train.iloc[test_index]\n",
    "        gc.collect()#进行垃圾内存回收\n",
    "        if boosttype=='cbt':\n",
    "            model = cbt.CatBoostClassifier(iterations=1500,learning_rate=0.01,max_depth=6,verbose = 500,\n",
    "                                           leaf_estimation_method='Newton',early_stopping_rounds=10000,\n",
    "                                           task_type='GPU',loss_function='MultiClass')\n",
    "            model.fit(train_x, train_y ,eval_set=(train_x, train_y))\n",
    "#        xgb_model = GridSearchCV(XGBClassifier(),params,n_jobs=-1, cv=5, verbose=300,refit=True)\n",
    "        elif boosttype=='xgb':\n",
    "            model = XGBClassifier(\n",
    "            silent=True ,\n",
    "            learning_rate= 0.05, # 学习率\n",
    "            min_child_weight=1,\n",
    "            # 这个参数默认是 1，是每个叶子里面 h 的和至少是多少，对正负样本不均衡时的 0-1 分类而言\n",
    "            #，假设 h 在 0.01 附近，min_child_weight 为 1 意味着叶子节点中最少需要包含 100 个样本。\n",
    "            #这个参数非常影响结果，控制叶子节点中二阶导的和的最小值，该参数值越小，越容易 overfitting。\n",
    "            max_depth=7, # 构建树的深度，越大越容易过拟合\n",
    "            gamma=0.1,  # 树的叶子节点上作进一步分区所需的最小损失减少,越大越保守，一般0.1、0.2这样子。\n",
    "            subsample=1, # 随机采样训练样本 训练实例的子采样比\n",
    "            max_delta_step=0,#最大增量步长，我们允许每个树的权重估计。\n",
    "            colsample_bytree=1, # 生成树时进行的列采样\n",
    "            reg_lambda=1,  # 控制模型复杂度的权重值的L2正则化项参数，参数越大，模型越不容易过拟合。\n",
    "            #reg_alpha=0, # L1 正则项参数\n",
    "            scale_pos_weight=1, #如果取值大于0的话，在类别样本不平衡的情况下有助于快速收敛。平衡正负权重\n",
    "            objective= 'multi:softmax', #多分类的问题 指定学习任务和相应的学习目标\n",
    "            num_class=4, # 类别数，多分类与 multisoftmax 并用\n",
    "            n_estimators=1200, #树的个数\n",
    "            seed=2019, #随机种子\n",
    "            eval_metric= 'mlogloss',\n",
    "            )\n",
    "            model.fit(train_x, train_y,eval_metric='mlogloss')\n",
    "        elif boosttype=='lgb':\n",
    "            model=LGBMClassifier(boosting_type=\"gbdt\",num_leaves=23,reg_alpha=10, reg_lambda=5,max_depth=7,\n",
    "                                 learning_rate=0.05, n_estimators=2000,colsample_bytree=0.7, subsample_freq=1,\n",
    "                                 objective='multiclass', silent=True,subsample=0.7,min_child_samples=5,\n",
    "                                 )\n",
    "            model.fit(train_x, train_y, eval_set=(test_x, test_y),early_stopping_rounds=3000, verbose=1000,)#verbose=False   \n",
    "        oof_model[test_index] = oof_model[test_index]+model.predict_proba(test_x) #预测验证集上某一个工件lebal为0到3的各自概率\n",
    "        prediction_model = prediction_model+model.predict_proba(X_test)/k #预测测试集上某一个工件lebal为0到3的各自概率（除10是因为splits=10，故要进行10次轮换交叉验证）\n",
    "    oof = oof+oof_model / num_model_seed\n",
    "    prediction =prediction+prediction_model / num_model_seed\n",
    "\n",
    "    print('logloss',log_loss(pd.get_dummies(y_train).values, oof_model))\n",
    "    print('ac',accuracy_score(y_train, np.argmax(oof_model,axis=1)))\n",
    "    print('mae',1/(1 + np.sum(np.absolute(np.eye(4)[y_train] - oof_model))/480))\n",
    "\n",
    "print('logloss',log_loss(pd.get_dummies(y_train).values, oof))\n",
    "print('ac',accuracy_score(y_train, np.argmax(oof,axis=1)))\n",
    "print('mae',1/(1 + np.sum(np.absolute(np.eye(4)[y_train] - oof))/480))\n",
    "beta=2\n",
    "p1=precision_score(y_train,np.argmax(oof,axis=1),average='micro')\n",
    "r1=recall_score(y_train,np.argmax(oof,axis=1),average='micro')\n",
    "p2=precision_score(y_train,np.argmax(oof,axis=1),average='macro')\n",
    "r2=recall_score(y_train,np.argmax(oof,axis=1),average='macro')\n",
    "print('micro precision',p1)\n",
    "print('micro recall',r1)\n",
    "print('macro precision',p2)\n",
    "print('macro recall',r2)\n",
    "print('micro F2-Score',(1+beta*beta)*p1*r1/(beta*beta*p1+r1))\n",
    "print('macro F2-Score',(1+beta*beta)*p2*r2/(beta*beta*p2+r2))"
   ]
  },
  {
   "cell_type": "code",
   "execution_count": 7,
   "metadata": {},
   "outputs": [],
   "source": [
    "sub = test[['Group']]\n",
    "prob_cols = [i for i in submit.columns if i not in ['Group']]\n",
    "for i, f in enumerate(prob_cols):\n",
    "    sub[f] = prediction[:, i]\n",
    "for i in prob_cols:\n",
    "    sub[i] = sub.groupby('Group')[i].transform('mean')\n",
    "sub = sub.drop_duplicates()"
   ]
  },
  {
   "cell_type": "code",
   "execution_count": 9,
   "metadata": {},
   "outputs": [],
   "source": [
    "submit = sub.copy()\n",
    "submit2 = sub.copy()\n",
    "submit3 = sub.copy()\n",
    "ratio = ['Excellent ratio','Good ratio','Pass ratio','Fail ratio']\n",
    "submit[ratio]=submit[ratio]*50\n",
    "submit2[ratio]=(submit2[ratio]*50).astype('int')\n",
    "submit3[ratio]=(submit[ratio]-submit2[ratio]).astype('float')\n",
    "submit2 = submit2.values\n",
    "submit3 = submit3.values"
   ]
  },
  {
   "cell_type": "code",
   "execution_count": 10,
   "metadata": {},
   "outputs": [],
   "source": [
    "k = np.argmax(submit3[:,1:5],axis=1) + 1\n",
    "for i in range(120): \n",
    "    if submit3[i,k[i]] > 0.5:\n",
    "        submit2[i,k[i]] += 1\n",
    "        submit3[i,k[i]] = 0\n",
    "k = np.argmax(submit3[:,1:5],axis=1) + 1\n",
    "for i in range(120):\n",
    "    if submit3[i,k[i]] > 0.5:\n",
    "        submit2[i,k[i]] += 1\n",
    "        submit3[i,k[i]] = 0\n",
    "k = np.argmax(submit3[:,1:5],axis=1) + 1\n",
    "for i in range(120):    \n",
    "    if sum(submit2[i,1:5]) < 50:\n",
    "        if submit3[i,k[i]] > 0.5:\n",
    "            submit2[i,k[i]] += 1\n",
    "            submit3[i,k[i]] = 0\n",
    "k = np.argmax(submit3[:,1:5],axis=1) + 1\n",
    "for i in range(120):    \n",
    "    if sum(submit2[i,1:5]) < 50:\n",
    "        submit2[i,k[i]] += 1\n",
    "        submit3[i,k[i]] = 0\n",
    "submit[ratio] = submit2[:,1:5] / 50"
   ]
  },
  {
   "cell_type": "code",
   "execution_count": 11,
   "metadata": {},
   "outputs": [],
   "source": [
    "sub.to_csv(r'C:\\Users\\12239\\Desktop\\CFF\\离散制造过程中典型工件的质量符合率预测\\submit_example.csv',index=False)"
   ]
  },
  {
   "cell_type": "code",
   "execution_count": null,
   "metadata": {},
   "outputs": [],
   "source": []
  }
 ],
 "metadata": {
  "kernelspec": {
   "display_name": "Python 3",
   "language": "python",
   "name": "python3"
  },
  "language_info": {
   "codemirror_mode": {
    "name": "ipython",
    "version": 3
   },
   "file_extension": ".py",
   "mimetype": "text/x-python",
   "name": "python",
   "nbconvert_exporter": "python",
   "pygments_lexer": "ipython3",
   "version": "3.7.1"
  }
 },
 "nbformat": 4,
 "nbformat_minor": 1
}
